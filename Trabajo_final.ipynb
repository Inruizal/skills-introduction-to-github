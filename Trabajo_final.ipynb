{
  "nbformat": 4,
  "nbformat_minor": 0,
  "metadata": {
    "colab": {
      "provenance": [],
      "authorship_tag": "ABX9TyO/3lhIZNJbVpEaLxng+52g",
      "include_colab_link": true
    },
    "kernelspec": {
      "name": "python3",
      "display_name": "Python 3"
    },
    "language_info": {
      "name": "python"
    }
  },
  "cells": [
    {
      "cell_type": "markdown",
      "metadata": {
        "id": "view-in-github",
        "colab_type": "text"
      },
      "source": [
        "<a href=\"https://colab.research.google.com/github/Inruizal/skills-introduction-to-github/blob/main/Trabajo_final.ipynb\" target=\"_parent\"><img src=\"https://colab.research.google.com/assets/colab-badge.svg\" alt=\"Open In Colab\"/></a>"
      ]
    },
    {
      "cell_type": "code",
      "execution_count": 5,
      "metadata": {
        "colab": {
          "base_uri": "https://localhost:8080/"
        },
        "id": "3A3rfZBaBMY3",
        "outputId": "593ad12c-b7e5-484b-fdc5-fcd8070395aa"
      },
      "outputs": [
        {
          "output_type": "stream",
          "name": "stdout",
          "text": [
            "Drive already mounted at /content/drive; to attempt to forcibly remount, call drive.mount(\"/content/drive\", force_remount=True).\n"
          ]
        }
      ],
      "source": [
        "from google.colab import drive\n",
        "drive.mount('/content/drive')"
      ]
    },
    {
      "cell_type": "code",
      "source": [
        "import pandas as pd\n",
        "\n",
        "ruta = \"/content/drive/My Drive/Colab Notebooks/Base de datos (100 palabras).csv\"\n",
        "df = pd.read_csv(ruta)\n",
        "\n",
        "#2. Leer el número de filas y de columnas\n",
        "print(df.shape)\n",
        "\n",
        "#3. Mostrar las 10 primeras filas del archivo\n",
        "print(df.head(10))"
      ],
      "metadata": {
        "id": "nrMG4JXvEl5L",
        "colab": {
          "base_uri": "https://localhost:8080/"
        },
        "outputId": "90e1a745-d41e-465b-a797-b390a5076886"
      },
      "execution_count": 6,
      "outputs": [
        {
          "output_type": "stream",
          "name": "stdout",
          "text": [
            "(101, 6)\n",
            "   palabra  longitud  frecuencia categoría_gramatical    idioma  sílabas\n",
            "0    house         5          36           sustantivo    inglés        1\n",
            "1    libro         5         392           sustantivo   español        2\n",
            "2     cane         4          56           sustantivo  italiano        1\n",
            "3     chat         4         831           sustantivo   francés        1\n",
            "4   scuola         6        1000           sustantivo  italiano        2\n",
            "5  teacher         7         311           sustantivo   español        2\n",
            "6     Baum         4         394           sustantivo    alemán        1\n",
            "7      mar         3         950           sustantivo   español        1\n",
            "8   soleil         6         282           sustantivo   francés        2\n",
            "9    Licht         5         358           sustantivo    alemán        1\n"
          ]
        }
      ]
    },
    {
      "cell_type": "code",
      "source": [
        "#4. Halle el máximo y luego el mínimo valor de la columna \"frecuencia\"\n",
        "\n",
        "max_freq = df[\"frecuencia\"].max()\n",
        "min_freq = df[\"frecuencia\"].min()\n",
        "\n",
        "print(\"Máximo valor de frecuencia:\", max_freq)\n",
        "print(\"Mínimo valor de frecuencia:\", min_freq)"
      ],
      "metadata": {
        "id": "kfosy1OcFYm9",
        "colab": {
          "base_uri": "https://localhost:8080/"
        },
        "outputId": "cb34b535-5817-4cc5-d56a-230fd2e6fa53"
      },
      "execution_count": 7,
      "outputs": [
        {
          "output_type": "stream",
          "name": "stdout",
          "text": [
            "Máximo valor de frecuencia: 1002\n",
            "Mínimo valor de frecuencia: 11\n"
          ]
        }
      ]
    },
    {
      "cell_type": "code",
      "source": [
        "#5. Halle cuántas palabras tienen una frecuencia mayor a quinientos y una longitud mayor a 5.\n",
        "\n",
        "palabras_filtradas = df[(df[\"frecuencia\"] > 500) & (df[\"palabra\"].str.len() > 5)]\n",
        "print(palabras_filtradas)"
      ],
      "metadata": {
        "id": "SK3V8WAGGMOT",
        "colab": {
          "base_uri": "https://localhost:8080/"
        },
        "outputId": "2e351669-14e3-4cfb-db12-5578d56c7b11"
      },
      "execution_count": 8,
      "outputs": [
        {
          "output_type": "stream",
          "name": "stdout",
          "text": [
            "     palabra  longitud  frecuencia categoría_gramatical    idioma  sílabas\n",
            "4     scuola         6        1000           sustantivo  italiano        2\n",
            "12    tavolo         6         618           sustantivo  italiano        3\n",
            "13  finestra         8         868           sustantivo  italiano        3\n",
            "16    flower         6         829           sustantivo    inglés        2\n",
            "20  montagne         8         534           sustantivo   francés        2\n",
            "22   Familie         7         817           sustantivo    alemán        3\n",
            "28    veloce         6         901             adjetivo  italiano        3\n",
            "30    clever         6         612             adjetivo    inglés        2\n",
            "39   gestern         7         951           sustantivo    alemán        2\n",
            "42    jardin         6         628           sustantivo   francés        2\n",
            "61   musique         7         999           sustantivo   francés        2\n",
            "63    lehrer         6         789           sustantivo    alemán        2\n",
            "65   corazon         7         987           sustantivo   español        3\n",
            "66   voiture         7         546           sustantivo   francés        2\n",
            "69    pajaro         6         543           sustantivo   español        2\n",
            "89    scarpa         6         900           sustantivo  italiano        2\n",
            "99   schnell         7         678             adjetivo    alemán        2\n"
          ]
        }
      ]
    },
    {
      "cell_type": "code",
      "source": [
        "#6. Halle cuántos idiomas distintos hay en el archivo y cuántas palabras de cada uno de ellos.\n",
        "\n",
        "numero_de_idiomas = df[\"idioma\"].count()\n",
        "print(\"Número de idiomas distintos:\", numero_de_idiomas)\n",
        "\n",
        "df.groupby(\"idioma\")[\"palabra\"].count()"
      ],
      "metadata": {
        "id": "zDEMilEHHPmP",
        "colab": {
          "base_uri": "https://localhost:8080/",
          "height": 289
        },
        "outputId": "db8cce8f-fa4e-42bf-9221-523fbcc179bd"
      },
      "execution_count": 13,
      "outputs": [
        {
          "output_type": "stream",
          "name": "stdout",
          "text": [
            "Número de idiomas distintos: 101\n"
          ]
        },
        {
          "output_type": "execute_result",
          "data": {
            "text/plain": [
              "idioma\n",
              "alemán      24\n",
              "español     24\n",
              "francés     21\n",
              "inglés      12\n",
              "italiano    20\n",
              "Name: palabra, dtype: int64"
            ],
            "text/html": [
              "<div>\n",
              "<style scoped>\n",
              "    .dataframe tbody tr th:only-of-type {\n",
              "        vertical-align: middle;\n",
              "    }\n",
              "\n",
              "    .dataframe tbody tr th {\n",
              "        vertical-align: top;\n",
              "    }\n",
              "\n",
              "    .dataframe thead th {\n",
              "        text-align: right;\n",
              "    }\n",
              "</style>\n",
              "<table border=\"1\" class=\"dataframe\">\n",
              "  <thead>\n",
              "    <tr style=\"text-align: right;\">\n",
              "      <th></th>\n",
              "      <th>palabra</th>\n",
              "    </tr>\n",
              "    <tr>\n",
              "      <th>idioma</th>\n",
              "      <th></th>\n",
              "    </tr>\n",
              "  </thead>\n",
              "  <tbody>\n",
              "    <tr>\n",
              "      <th>alemán</th>\n",
              "      <td>24</td>\n",
              "    </tr>\n",
              "    <tr>\n",
              "      <th>español</th>\n",
              "      <td>24</td>\n",
              "    </tr>\n",
              "    <tr>\n",
              "      <th>francés</th>\n",
              "      <td>21</td>\n",
              "    </tr>\n",
              "    <tr>\n",
              "      <th>inglés</th>\n",
              "      <td>12</td>\n",
              "    </tr>\n",
              "    <tr>\n",
              "      <th>italiano</th>\n",
              "      <td>20</td>\n",
              "    </tr>\n",
              "  </tbody>\n",
              "</table>\n",
              "</div><br><label><b>dtype:</b> int64</label>"
            ]
          },
          "metadata": {},
          "execution_count": 13
        }
      ]
    },
    {
      "cell_type": "markdown",
      "source": [
        "7) Cree una columna llamada “Tamaño” y que indique una palabra es “larga” si tiene al menos 2 sílabas y una longitud superior a 6 caracteres; en caso contrario, la palabra será \"corta”."
      ],
      "metadata": {
        "id": "i6KNz8TTS2m4"
      }
    },
    {
      "cell_type": "code",
      "source": [
        "def clasificar_palabra(row):\n",
        "#Define una función clasificar_palabra() que recibe como argumento una fila del DataFrame (row).\n",
        "    if row[\"sílabas\"] >= 2 and len(row[\"palabra\"]) > 6:\n",
        "        return \"larga\"\n",
        "    else:\n",
        "        return \"corta\"\n",
        "\n",
        "df[\"Tamaño\"] = df.apply(clasificar_palabra, axis=1)\n",
        "# Aplica la función clasificar_palabra() a cada fila del DataFrame.\n",
        "# axis=1 indica que la función debe ejecutarse fila por fila.\n",
        "# El resultado de cada fila se almacena en la nueva columna \"Tamaño\".\n",
        "\n",
        "print(df[\"Tamaño\"])"
      ],
      "metadata": {
        "id": "0jnS7hiiNLJT",
        "colab": {
          "base_uri": "https://localhost:8080/"
        },
        "outputId": "7c8e6035-8e77-4f80-aeb9-c9fea813731f"
      },
      "execution_count": 22,
      "outputs": [
        {
          "output_type": "stream",
          "name": "stdout",
          "text": [
            "0      corta\n",
            "1      corta\n",
            "2      corta\n",
            "3      corta\n",
            "4      corta\n",
            "       ...  \n",
            "96     corta\n",
            "97     corta\n",
            "98     corta\n",
            "99     larga\n",
            "100    corta\n",
            "Name: Tamaño, Length: 101, dtype: object\n"
          ]
        }
      ]
    },
    {
      "cell_type": "markdown",
      "source": [
        "8) Halle cuál es el idioma con\n",
        "1. menor número de sustantivos,\n",
        "2. menor número de adjetivos,\n",
        "3. mayor número de palabras largas,\n",
        "4. mayor número de palabras cortas."
      ],
      "metadata": {
        "id": "9aRtrJv_SsX4"
      }
    },
    {
      "source": [
        "#1.\n",
        "idioma_sustantivos = df[df[\"categoría_gramatical\"] == \"sustantivo\"].groupby(\"idioma\")[\"palabra\"].count()\n",
        "print(\"Idioma con menor número de sustantivos:\", idioma_sustantivos.idxmin())\n",
        "\n",
        "#2.\n",
        "idioma_adjetivos = df[df[\"categoría_gramatical\"] == \"adjetivo\"].groupby(\"idioma\")[\"palabra\"].count()\n",
        "print(\"Idioma con menor número de adjetivos:\", idioma_adjetivos.idxmin())\n",
        "#3.\n",
        "idioma_largas = df[df[\"Tamaño\"] == \"larga\"].groupby(\"idioma\")[\"palabra\"].count()\n",
        "print(\"Idioma con mayor número de palabras largas:\", idioma_largas.idxmax())\n",
        "#4.\n",
        "idioma_cortas = df[df[\"Tamaño\"] == \"corta\"].groupby(\"idioma\")[\"palabra\"].count()\n",
        "print(\"Idioma con mayor número de palabras cortas:\", idioma_cortas.idxmax())"
      ],
      "cell_type": "code",
      "metadata": {
        "id": "0HvSo83syn1J",
        "colab": {
          "base_uri": "https://localhost:8080/"
        },
        "outputId": "cc9e2eb2-376d-447b-a6d4-045cbef5f959"
      },
      "execution_count": 12,
      "outputs": [
        {
          "output_type": "stream",
          "name": "stdout",
          "text": [
            "Idioma con menor número de sustantivos: inglés\n",
            "Idioma con menor número de adjetivos: francés\n",
            "Idioma con mayor número de palabras largas: alemán\n",
            "Idioma con mayor número de palabras cortas: español\n"
          ]
        }
      ]
    },
    {
      "cell_type": "markdown",
      "source": [
        "9. Grafique (como gráfico de barras) los datos de los puntos 5 y 6, poniendo el texto de cada\n",
        "eje y el título de gráfico que corresponda en cada caso. Cambie el color de las barras y\n",
        "nombre los ejes"
      ],
      "metadata": {
        "id": "YbctIsr1mioy"
      }
    },
    {
      "cell_type": "code",
      "source": [
        "import matplotlib.pyplot as plt\n",
        "\n",
        "palabras = [\"scuola\", \"tavolo\", \"finestra\", \"flower\", \"montagne\", \"Familie\", \"veloce\", \"clever\",\n",
        "            \"gestern\", \"jardin\", \"musique\", \"lehrer\", \"corazon\", \"voiture\", \"pajaro\", \"scarpa\", \"schnell\"]\n",
        "frecuencias = [1000, 618, 868, 829, 534, 817, 901, 612, 951, 628, 999, 789, 987, 546, 543, 900, 678]\n",
        "plt.figure(figsize=(10, 5))\n",
        "plt.bar(palabras, frecuencias, color='skyblue')\n",
        "plt.xlabel(\"Palabra\")\n",
        "plt.ylabel(\"Frecuencia\")\n",
        "plt.title(\"Frecuencia de palabras en distintos idiomas\")\n",
        "plt.xticks(rotation=45, ha=\"right\")\n",
        "plt.show()\n"
      ],
      "metadata": {
        "colab": {
          "base_uri": "https://localhost:8080/",
          "height": 533
        },
        "id": "FJ6MUUM-mkQc",
        "outputId": "7e81369b-3034-47e9-e9a5-118eb0757c01"
      },
      "execution_count": 14,
      "outputs": [
        {
          "output_type": "display_data",
          "data": {
            "text/plain": [
              "<Figure size 1000x500 with 1 Axes>"
            ],
            "image/png": "[encoded data removed]"
          },
          "metadata": {}
        }
      ]
    },
    {
      "cell_type": "code",
      "source": [
        "idiomas = [\"alemán\", \"español\", \"francés\", \"inglés\", \"italiano\"]\n",
        "palabras_por_idioma = [24, 24, 21, 12, 20]\n",
        "plt.figure(figsize=(8, 5))\n",
        "plt.bar(idiomas, palabras_por_idioma, color='coral')\n",
        "plt.xlabel(\"Idioma\")\n",
        "plt.ylabel(\"Número de palabras\")\n",
        "plt.title(\"Número de palabras por idioma\")\n",
        "plt.show()"
      ],
      "metadata": {
        "colab": {
          "base_uri": "https://localhost:8080/",
          "height": 488
        },
        "collapsed": true,
        "id": "q2EM8aAFrGCt",
        "outputId": "590d9405-6ea9-417b-f9df-cfbefe373fbe"
      },
      "execution_count": 15,
      "outputs": [
        {
          "output_type": "display_data",
          "data": {
            "text/plain": [
              "<Figure size 800x500 with 1 Axes>"
            ],
            "image/png": "[encoded data removed]"
          },
          "metadata": {}
        }
      ]
    },
    {
      "cell_type": "markdown",
      "source": [
        "10) Grafique (como el gráfico que considere adecuado) los datos de los puntos 7 (columna\n",
        "de tamaño) con cualquier de las columnas que considere a su elección. Añada nombre a\n",
        "los ejes y un título apropiado al gráfico."
      ],
      "metadata": {
        "id": "QQAE1i9pz1mp"
      }
    },
    {
      "cell_type": "code",
      "source": [],
      "metadata": {
        "id": "hyKBvycIzLMx"
      },
      "execution_count": null,
      "outputs": []
    }
  ]
}